{
 "cells": [
  {
   "cell_type": "code",
   "execution_count": null,
   "metadata": {},
   "outputs": [],
   "source": [
    "#1 \n",
    "x = input(\"Please type here....\")\n",
    "\n",
    "print(\"Length of your types string is \",len(x))"
   ]
  },
  {
   "cell_type": "code",
   "execution_count": 18,
   "metadata": {},
   "outputs": [
    {
     "name": "stdout",
     "output_type": "stream",
     "text": [
      "Enter string here: dfhkgbddsk\n",
      "Count of all characters in dfhkgbddsk is :\n",
      "Counter({'d': 3, 'k': 2, 'f': 1, 'h': 1, 'g': 1, 'b': 1, 's': 1})\n"
     ]
    }
   ],
   "source": [
    "# 2. character frequency\n",
    "from collections import Counter\n",
    "\n",
    "str2 = input('Enter string here: ')\n",
    "res = Counter(str2)\n",
    "\n",
    "print (\"Count of all characters in %s is :\\n\" %(str2) +  str(res))"
   ]
  },
  {
   "cell_type": "code",
   "execution_count": 28,
   "metadata": {},
   "outputs": [
    {
     "name": "stdout",
     "output_type": "stream",
     "text": [
      "Please enter a string helooall\n",
      "New string:  hell\n"
     ]
    }
   ],
   "source": [
    "# 3. program to get a string made of first 2 and last 2 chars\n",
    "str3 = input(\"Please enter a string \")\n",
    "if len(str3) <=2:\n",
    "    res = ' '\n",
    "else:\n",
    "    res = str3[:2] +str3[-2:]\n",
    "print(\"New string: \",res)"
   ]
  },
  {
   "cell_type": "code",
   "execution_count": 30,
   "metadata": {},
   "outputs": [
    {
     "name": "stdout",
     "output_type": "stream",
     "text": [
      "Please enter a string hello\n",
      "Please enter a string world\n",
      "ehllo owrld\n"
     ]
    }
   ],
   "source": [
    "# 4.swap first 2 characters of each string\n",
    "str4 = input(\"Please enter a string \")\n",
    "str5 = input(\"Please enter a string \")\n",
    "\n",
    "res = str4[1] + str4[0] + str4[2:] + \" \" + str5[1] + str5[0] + str5[2:]\n",
    "print(res)"
   ]
  },
  {
   "cell_type": "code",
   "execution_count": 49,
   "metadata": {},
   "outputs": [
    {
     "name": "stdout",
     "output_type": "stream",
     "text": [
      "Please enter a string helopoornot\n",
      "helogood\n"
     ]
    }
   ],
   "source": [
    "# 5. replace poornot with good\n",
    "str6 = input(\"Please enter a string \")\n",
    "sub1 = 'not'\n",
    "sub2 ='poor'\n",
    "\n",
    "j= str6.index(sub1)\n",
    "i = str6.index(sub2)\n",
    "\n",
    "sub3 = 'poornot'\n",
    "if i == (j-4):\n",
    "    res1 = str6.replace(sub3,'good') \n",
    "else:\n",
    "    res1 = str6\n",
    "print(res1)"
   ]
  },
  {
   "cell_type": "code",
   "execution_count": 65,
   "metadata": {},
   "outputs": [
    {
     "name": "stdout",
     "output_type": "stream",
     "text": [
      "Enter words  : shiva me i bulma\n",
      "Longest word with its length is:  (['shiva', 'bulma'], 5)\n"
     ]
    }
   ],
   "source": [
    "#6\n",
    "n = input(\"Enter words  : \")\n",
    "a = n.split(\" \")\n",
    "\n",
    "def wordlist(a):\n",
    "    leni =len(a[0])\n",
    "    temp = a[0]\n",
    "    lst = []\n",
    "    for i in a:\n",
    "        if len(i) >= leni:\n",
    "            temp = i\n",
    "            leni = len(i)\n",
    "            lst.append(i)\n",
    "    return (lst,leni)\n",
    "print(\"Longest word with its length is: \",wordlist(a))"
   ]
  },
  {
   "cell_type": "code",
   "execution_count": 71,
   "metadata": {},
   "outputs": [
    {
     "name": "stdout",
     "output_type": "stream",
     "text": [
      "Please enter a string shiva\n",
      "ahivs\n"
     ]
    }
   ],
   "source": [
    "#7 \n",
    "str7 = input(\"Please enter a string \")\n",
    "\n",
    "res7 = str7[-1] + str7[1:len(str7)-1] + str7[0]\n",
    "print(res7)"
   ]
  },
  {
   "cell_type": "code",
   "execution_count": 77,
   "metadata": {},
   "outputs": [
    {
     "name": "stdout",
     "output_type": "stream",
     "text": [
      "Please enter a string shiva\n",
      "sia\n"
     ]
    }
   ],
   "source": [
    "#8\n",
    "str8= input(\"Please enter a string \")\n",
    "res8 = ''\n",
    "for i in range(0,len(str8),2):\n",
    "    res8 = res8+str8[i] \n",
    "    \n",
    "print(res8)"
   ]
  },
  {
   "cell_type": "code",
   "execution_count": 80,
   "metadata": {},
   "outputs": [
    {
     "name": "stdout",
     "output_type": "stream",
     "text": [
      "Please enter a string Hi me shiva shiva and ashiva\n"
     ]
    },
    {
     "data": {
      "text/plain": [
       "shiva     2\n",
       "and       1\n",
       "Hi        1\n",
       "ashiva    1\n",
       "me        1\n",
       "dtype: int64"
      ]
     },
     "execution_count": 80,
     "metadata": {},
     "output_type": "execute_result"
    }
   ],
   "source": [
    "#9\n",
    "import numpy as np\n",
    "import pandas as pd\n",
    "\n",
    "str9 = input(\"Please enter a string \")\n",
    "strlst = str9.split()\n",
    "\n",
    "\n",
    "pd.value_counts(np.array(strlst))\n"
   ]
  },
  {
   "cell_type": "code",
   "execution_count": null,
   "metadata": {},
   "outputs": [],
   "source": [
    "#9 second approach\n",
    "str9 = input(\"Please enter a string \")\n",
    "str9_list = str9.split()\n",
    "setlis = set(str9_list)\n",
    "     \n",
    "for words in setlis:\n",
    "    print('count of ', words , 'is :', str9_list.count(words))\n"
   ]
  },
  {
   "cell_type": "code",
   "execution_count": 83,
   "metadata": {},
   "outputs": [
    {
     "name": "stdout",
     "output_type": "stream",
     "text": [
      "Please enter a string shiva\n",
      "Upper cased string :  SHIVA\n",
      "Lower cased string :  shiva\n"
     ]
    }
   ],
   "source": [
    "#10\n",
    "str10 = input(\"Please enter a string \")\n",
    "\n",
    "print(\"Upper cased string : \",str10.upper())\n",
    "print(\"Lower cased string : \",str10.lower())"
   ]
  },
  {
   "cell_type": "code",
   "execution_count": 86,
   "metadata": {},
   "outputs": [
    {
     "name": "stdout",
     "output_type": "stream",
     "text": [
      "Please enter a string shiva\n",
      "Please enter a string want to put in middle:  eeee\n",
      "sheeeeiva\n"
     ]
    }
   ],
   "source": [
    "#11\n",
    "str101 = input(\"Please enter a string \")\n",
    "str102=input(\"Please enter a string want to put in middle:  \")\n",
    "\n",
    "lst2 = list(str101)\n",
    "n = len(lst2)//2\n",
    "lst2.insert(n, str102)\n",
    "res11 = ''.join(lst2)\n",
    "print(res11)"
   ]
  },
  {
   "cell_type": "code",
   "execution_count": 90,
   "metadata": {},
   "outputs": [
    {
     "name": "stdout",
     "output_type": "stream",
     "text": [
      "Please enter a string shiva\n",
      "shi\n"
     ]
    }
   ],
   "source": [
    "# 12\n",
    "strr1 = input(\"Please enter a string \")\n",
    "\n",
    "def string1(strr1):\n",
    "    if len(strr1) >= 3:\n",
    "        res12 = strr1[0:3]\n",
    "    else:\n",
    "        res12=strr1\n",
    "    return res12\n",
    "print(string1(strr1))"
   ]
  },
  {
   "cell_type": "code",
   "execution_count": 95,
   "metadata": {},
   "outputs": [
    {
     "name": "stdout",
     "output_type": "stream",
     "text": [
      "dev/etc\n",
      "fstab\n"
     ]
    }
   ],
   "source": [
    "#13\n",
    "str13 = 'dev/etc/fstab'\n",
    "print(str13.rsplit('/', 1)[0])\n",
    "print(str13.rsplit('/', 1)[1])"
   ]
  },
  {
   "cell_type": "markdown",
   "metadata": {},
   "source": []
  },
  {
   "cell_type": "code",
   "execution_count": 97,
   "metadata": {},
   "outputs": [
    {
     "name": "stdout",
     "output_type": "stream",
     "text": [
      "Please type here shiva\n",
      "please enter a number: 4\n",
      "shiva shiva shiva shiva \n"
     ]
    }
   ],
   "source": [
    "str1 =input(\"Please type here \") + \" \" \n",
    "num = int(input(\"please enter a number: \")) \n",
    "print(str1 *num)"
   ]
  },
  {
   "cell_type": "code",
   "execution_count": null,
   "metadata": {},
   "outputs": [],
   "source": []
  },
  {
   "cell_type": "code",
   "execution_count": null,
   "metadata": {},
   "outputs": [],
   "source": []
  },
  {
   "cell_type": "markdown",
   "metadata": {},
   "source": [
    "# Assesment 2 - Calculator"
   ]
  },
  {
   "cell_type": "code",
   "execution_count": 27,
   "metadata": {},
   "outputs": [
    {
     "name": "stdout",
     "output_type": "stream",
     "text": [
      "Enter three values: 1 * 4\n",
      "4\n"
     ]
    }
   ],
   "source": [
    "# using function\n",
    "\n",
    "def add(a,c):\n",
    "    x=int(a)\n",
    "    y= int(c)\n",
    "    return (x+y)\n",
    "def sub(a,c):\n",
    "    x=int(a)\n",
    "    y= int(c)\n",
    "    return (x-y)\n",
    "def mul(a,c):\n",
    "    x=int(a)\n",
    "    y= int(c)\n",
    "    return (x*y)\n",
    "def div(a,c):\n",
    "    x=int(a)\n",
    "    y= int(c)\n",
    "    return (x*y)\n",
    "\n",
    "def main(a,opern,c):\n",
    "    if opern == \"+\":\n",
    "        return add(a,c)\n",
    "    elif opern == \"-\":\n",
    "        return sub(a,c)\n",
    "    elif opern == \"*\":\n",
    "        return mul(a,c)\n",
    "    elif opern == \"/\":\n",
    "        return div(a,c)\n",
    "a, opern, c = [x for x in input(\"Enter three values: \").split()]\n",
    "print(main(a,opern,c))"
   ]
  },
  {
   "cell_type": "code",
   "execution_count": 24,
   "metadata": {},
   "outputs": [
    {
     "name": "stdout",
     "output_type": "stream",
     "text": [
      "Enter three values: 1 / 0\n"
     ]
    },
    {
     "ename": "ZeroDivisionError",
     "evalue": "division by zero",
     "output_type": "error",
     "traceback": [
      "\u001b[1;31m---------------------------------------------------------------------------\u001b[0m",
      "\u001b[1;31mZeroDivisionError\u001b[0m                         Traceback (most recent call last)",
      "\u001b[1;32m<ipython-input-24-4f98d95aae62>\u001b[0m in \u001b[0;36m<module>\u001b[1;34m\u001b[0m\n\u001b[0;32m     30\u001b[0m         \u001b[1;32mreturn\u001b[0m \u001b[0mn1\u001b[0m\u001b[1;33m.\u001b[0m\u001b[0mdiv\u001b[0m\u001b[1;33m(\u001b[0m\u001b[1;33m)\u001b[0m\u001b[1;33m\u001b[0m\u001b[1;33m\u001b[0m\u001b[0m\n\u001b[0;32m     31\u001b[0m \u001b[1;33m\u001b[0m\u001b[0m\n\u001b[1;32m---> 32\u001b[1;33m \u001b[0mmain\u001b[0m\u001b[1;33m(\u001b[0m\u001b[0ma\u001b[0m\u001b[1;33m,\u001b[0m\u001b[0mopern\u001b[0m\u001b[1;33m,\u001b[0m\u001b[0mc\u001b[0m\u001b[1;33m)\u001b[0m\u001b[1;33m\u001b[0m\u001b[1;33m\u001b[0m\u001b[0m\n\u001b[0m",
      "\u001b[1;32m<ipython-input-24-4f98d95aae62>\u001b[0m in \u001b[0;36mmain\u001b[1;34m(a, opern, c)\u001b[0m\n\u001b[0;32m     28\u001b[0m         \u001b[1;32mreturn\u001b[0m \u001b[0mn1\u001b[0m\u001b[1;33m.\u001b[0m\u001b[0mmul\u001b[0m\u001b[1;33m(\u001b[0m\u001b[1;33m)\u001b[0m\u001b[1;33m\u001b[0m\u001b[1;33m\u001b[0m\u001b[0m\n\u001b[0;32m     29\u001b[0m     \u001b[1;32melif\u001b[0m \u001b[0mopern\u001b[0m \u001b[1;33m==\u001b[0m \u001b[1;34m\"/\"\u001b[0m\u001b[1;33m:\u001b[0m\u001b[1;33m\u001b[0m\u001b[1;33m\u001b[0m\u001b[0m\n\u001b[1;32m---> 30\u001b[1;33m         \u001b[1;32mreturn\u001b[0m \u001b[0mn1\u001b[0m\u001b[1;33m.\u001b[0m\u001b[0mdiv\u001b[0m\u001b[1;33m(\u001b[0m\u001b[1;33m)\u001b[0m\u001b[1;33m\u001b[0m\u001b[1;33m\u001b[0m\u001b[0m\n\u001b[0m\u001b[0;32m     31\u001b[0m \u001b[1;33m\u001b[0m\u001b[0m\n\u001b[0;32m     32\u001b[0m \u001b[0mmain\u001b[0m\u001b[1;33m(\u001b[0m\u001b[0ma\u001b[0m\u001b[1;33m,\u001b[0m\u001b[0mopern\u001b[0m\u001b[1;33m,\u001b[0m\u001b[0mc\u001b[0m\u001b[1;33m)\u001b[0m\u001b[1;33m\u001b[0m\u001b[1;33m\u001b[0m\u001b[0m\n",
      "\u001b[1;32m<ipython-input-24-4f98d95aae62>\u001b[0m in \u001b[0;36mdiv\u001b[1;34m(self)\u001b[0m\n\u001b[0;32m     14\u001b[0m \u001b[1;33m\u001b[0m\u001b[0m\n\u001b[0;32m     15\u001b[0m     \u001b[1;32mdef\u001b[0m \u001b[0mdiv\u001b[0m\u001b[1;33m(\u001b[0m\u001b[0mself\u001b[0m\u001b[1;33m)\u001b[0m\u001b[1;33m:\u001b[0m\u001b[1;33m\u001b[0m\u001b[1;33m\u001b[0m\u001b[0m\n\u001b[1;32m---> 16\u001b[1;33m         \u001b[0mprint\u001b[0m\u001b[1;33m(\u001b[0m\u001b[1;34m\"Division :\"\u001b[0m\u001b[1;33m,\u001b[0m\u001b[0mself\u001b[0m\u001b[1;33m.\u001b[0m\u001b[0mx\u001b[0m\u001b[1;33m/\u001b[0m\u001b[0mself\u001b[0m\u001b[1;33m.\u001b[0m\u001b[0my\u001b[0m\u001b[1;33m)\u001b[0m\u001b[1;33m\u001b[0m\u001b[1;33m\u001b[0m\u001b[0m\n\u001b[0m\u001b[0;32m     17\u001b[0m \u001b[1;33m\u001b[0m\u001b[0m\n\u001b[0;32m     18\u001b[0m  \u001b[1;31m# object\u001b[0m\u001b[1;33m\u001b[0m\u001b[1;33m\u001b[0m\u001b[1;33m\u001b[0m\u001b[0m\n",
      "\u001b[1;31mZeroDivisionError\u001b[0m: division by zero"
     ]
    }
   ],
   "source": [
    "class calculator():\n",
    "    def __init__(self,x,y):\n",
    "        self.x=int(a)\n",
    "        self.y=int(c)\n",
    "\n",
    "    def add(self):\n",
    "        print(\"Sum :\",self.x+self.y)\n",
    "\n",
    "    def sub(self):\n",
    "        print(\"Subtraction :\",self.x-self.y)  \n",
    "\n",
    "    def mul(self):\n",
    "        print(\"Multiplication :\",self.x*self.y)\n",
    "\n",
    "    def division(self):\n",
    "        print(\"Division :\",self.x/self.y)  \n",
    "\n",
    " # object \n",
    "a, opern, c = [x for x in input(\"Enter three values: \").split()]\n",
    "\n",
    "def main(a,opern,c):\n",
    "    n1=calculator(a,c)\n",
    "    \n",
    "    if opern == \"+\":\n",
    "        return n1.add()\n",
    "    elif opern == \"-\":\n",
    "        return n1.sub()\n",
    "    elif opern == \"*\":\n",
    "        return n1.mul()\n",
    "    elif opern == \"/\":\n",
    "        return n1.div()\n",
    "\n",
    "main(a,opern,c)\n"
   ]
  },
  {
   "cell_type": "code",
   "execution_count": 28,
   "metadata": {},
   "outputs": [
    {
     "name": "stdout",
     "output_type": "stream",
     "text": [
      "Enter first number: 1\n",
      "Enter second number: 2\n",
      "Operation: +, -, *, /\n",
      "please select operations: +\n",
      "1.0 + 2.0 = 3.0\n"
     ]
    }
   ],
   "source": [
    "# without function \n",
    "a = float(input(\"Enter first number: \"))\n",
    "b = float(input(\"Enter second number: \"))\n",
    "\n",
    "print(\"Operation: +, -, *, /\")\n",
    "sel = input(\"please select operations: \")\n",
    "\n",
    "if sel == \"+\":\n",
    "    print(a, \"+\", b, \"=\", a+b)\n",
    "\n",
    "elif sel == \"-\":\n",
    "    print(a, \"-\", b, \"=\", a-b)\n",
    "\n",
    "elif sel == \"*\":\n",
    "    print(a, \"*\", b, \"=\",a*b)\n",
    "\n",
    "elif sel == \"/\":\n",
    "    print(a, \"/\", b, \"=\", a/b)\n",
    "\n",
    "else:\n",
    "    print(\"Invalid input\")"
   ]
  },
  {
   "cell_type": "code",
   "execution_count": null,
   "metadata": {},
   "outputs": [],
   "source": []
  }
 ],
 "metadata": {
  "kernelspec": {
   "display_name": "Python 3",
   "language": "python",
   "name": "python3"
  },
  "language_info": {
   "codemirror_mode": {
    "name": "ipython",
    "version": 3
   },
   "file_extension": ".py",
   "mimetype": "text/x-python",
   "name": "python",
   "nbconvert_exporter": "python",
   "pygments_lexer": "ipython3",
   "version": "3.7.4"
  }
 },
 "nbformat": 4,
 "nbformat_minor": 2
}
